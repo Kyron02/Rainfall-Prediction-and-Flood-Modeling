{
 "cells": [
  {
   "cell_type": "code",
   "execution_count": 1,
   "metadata": {},
   "outputs": [
    {
     "name": "stderr",
     "output_type": "stream",
     "text": [
      "c:\\Users\\Harsh\\AppData\\Local\\Programs\\Python\\Python310\\lib\\site-packages\\tqdm\\auto.py:21: TqdmWarning: IProgress not found. Please update jupyter and ipywidgets. See https://ipywidgets.readthedocs.io/en/stable/user_install.html\n",
      "  from .autonotebook import tqdm as notebook_tqdm\n"
     ]
    }
   ],
   "source": [
    "import pandas as pd\n",
    "import numpy as np\n",
    "import math\n",
    "import itertools\n",
    "from sklearn.cluster import KMeans\n",
    "from sklearn.metrics import pairwise_distances_argmin\n",
    "from sklearn.preprocessing import MinMaxScaler\n",
    "from datetime import datetime\n",
    "import time\n",
    "from prophet import Prophet\n",
    "import matplotlib.pyplot as plt\n",
    "import joblib"
   ]
  },
  {
   "cell_type": "code",
   "execution_count": 2,
   "metadata": {},
   "outputs": [],
   "source": [
    "raw_data_df = pd.read_excel('C:/Users/Harsh/Desktop/trainer/data/Cauvery.xlsx') # creates a Pandas data frame for input value\n",
    "\t    \n"
   ]
  },
  {
   "cell_type": "code",
   "execution_count": 7,
   "metadata": {},
   "outputs": [
    {
     "data": {
      "text/plain": [
       "weekly runoff    0\n",
       "dtype: int64"
      ]
     },
     "execution_count": 7,
     "metadata": {},
     "output_type": "execute_result"
    }
   ],
   "source": [
    "\n",
    "raw_data_df['Date']=pd.to_datetime(raw_data_df['Date'])\n",
    "\n",
    "for i in range(1,len(raw_data_df.columns)):\n",
    "\traw_data_df[raw_data_df.columns[i]] = raw_data_df[raw_data_df.columns[i]].fillna(raw_data_df[raw_data_df.columns[i]].mean())\n",
    "\n",
    "data=pd.DataFrame()\n",
    "\n",
    "data['Date']=raw_data_df[\"Date\"]\n",
    "data['weekly runoff']=raw_data_df[\"weekly runoff\"]\n",
    "data=data.set_index(['Date'])\n",
    "# In[5]:\n",
    "data.head()\n",
    "# In[7]:\n",
    "data.isnull().sum()"
   ]
  },
  {
   "cell_type": "code",
   "execution_count": 8,
   "metadata": {},
   "outputs": [],
   "source": [
    "monthly = data.resample('M').sum()"
   ]
  },
  {
   "cell_type": "code",
   "execution_count": 9,
   "metadata": {},
   "outputs": [
    {
     "data": {
      "text/html": [
       "<div>\n",
       "<style scoped>\n",
       "    .dataframe tbody tr th:only-of-type {\n",
       "        vertical-align: middle;\n",
       "    }\n",
       "\n",
       "    .dataframe tbody tr th {\n",
       "        vertical-align: top;\n",
       "    }\n",
       "\n",
       "    .dataframe thead th {\n",
       "        text-align: right;\n",
       "    }\n",
       "</style>\n",
       "<table border=\"1\" class=\"dataframe\">\n",
       "  <thead>\n",
       "    <tr style=\"text-align: right;\">\n",
       "      <th></th>\n",
       "      <th>weekly runoff</th>\n",
       "    </tr>\n",
       "    <tr>\n",
       "      <th>Date</th>\n",
       "      <th></th>\n",
       "    </tr>\n",
       "  </thead>\n",
       "  <tbody>\n",
       "    <tr>\n",
       "      <th>1998-01-01</th>\n",
       "      <td>7.87895</td>\n",
       "    </tr>\n",
       "    <tr>\n",
       "      <th>1998-01-02</th>\n",
       "      <td>7.87895</td>\n",
       "    </tr>\n",
       "    <tr>\n",
       "      <th>1998-01-03</th>\n",
       "      <td>7.87895</td>\n",
       "    </tr>\n",
       "    <tr>\n",
       "      <th>1998-01-04</th>\n",
       "      <td>7.87895</td>\n",
       "    </tr>\n",
       "    <tr>\n",
       "      <th>1998-01-05</th>\n",
       "      <td>7.87895</td>\n",
       "    </tr>\n",
       "  </tbody>\n",
       "</table>\n",
       "</div>"
      ],
      "text/plain": [
       "            weekly runoff\n",
       "Date                     \n",
       "1998-01-01        7.87895\n",
       "1998-01-02        7.87895\n",
       "1998-01-03        7.87895\n",
       "1998-01-04        7.87895\n",
       "1998-01-05        7.87895"
      ]
     },
     "execution_count": 9,
     "metadata": {},
     "output_type": "execute_result"
    }
   ],
   "source": [
    "weekly = data.resample('W').sum()\n",
    "daily = data.resample('D').sum()\n",
    "#daily.rolling(30, center=True).sum().plot(style=[':', '--', '-'],title='Daily Trends')\n",
    "\n",
    "daily.head()"
   ]
  },
  {
   "cell_type": "code",
   "execution_count": 10,
   "metadata": {},
   "outputs": [
    {
     "data": {
      "text/plain": [
       "(7670, 1)"
      ]
     },
     "execution_count": 10,
     "metadata": {},
     "output_type": "execute_result"
    }
   ],
   "source": [
    "#Use MinMaxScaler to normalize  to range from 0 to 1\n",
    "values = daily['weekly runoff'].values.reshape(-1,1)\n",
    "values = values.astype('float32')\n",
    "scaler = MinMaxScaler(feature_range=(0, 1))\n",
    "scaled = scaler.fit_transform(values)\n",
    "# In[27]:\n",
    "scale=daily\n",
    "scale[\"weekly runoff\"]=scaled\n",
    "scale.head()\n",
    "# In[28]:\n",
    "scale.shape\n",
    "# In[38]:\n"
   ]
  },
  {
   "cell_type": "code",
   "execution_count": 11,
   "metadata": {},
   "outputs": [],
   "source": [
    "def making_dataset(i=1):\n",
    "    #Testing the future prediction\n",
    "    if i==0 :\n",
    "        #Taking data of last two years as testing data\n",
    "        df1=scale.iloc[6940:,:]\n",
    "        #Training Data\n",
    "        df2=scale.iloc[:6940,:]\n",
    "        df2.reset_index(inplace=True)\n",
    "        # Prophet requires columns ds (Date) and y (value)\n",
    "        df2 = df2.rename(columns={'Date': 'ds', 'weekly runoff': 'y'})\n",
    "        return df1,df2\n",
    "    else:\n",
    "        #Predicting the future values after 2018\n",
    "        df2=scale.iloc[:,:]\n",
    "        df2.reset_index(inplace=True)\n",
    "        # Prophet requires columns ds (Date) and y (value)\n",
    "        df2 = df2.rename(columns={'Date': 'ds', 'weekly runoff': 'y'})\n",
    "        return df2,df2"
   ]
  },
  {
   "cell_type": "code",
   "execution_count": 12,
   "metadata": {},
   "outputs": [],
   "source": [
    "df1,df2=making_dataset(1)\n",
    "df2.head()\n",
    "# In[40]:\n",
    "import warnings\n",
    "warnings.simplefilter(action='ignore', category=FutureWarning)"
   ]
  },
  {
   "cell_type": "code",
   "execution_count": 13,
   "metadata": {},
   "outputs": [
    {
     "name": "stderr",
     "output_type": "stream",
     "text": [
      "21:11:13 - cmdstanpy - INFO - Chain [1] start processing\n",
      "21:11:15 - cmdstanpy - INFO - Chain [1] done processing\n"
     ]
    }
   ],
   "source": [
    "df2_prophet = Prophet(changepoint_prior_scale=0.05)\n",
    "df2_prophet.fit(df2)\n",
    "path='C:/Users/Harsh/Desktop/trainer/Models'\n",
    "joblib.dump(df2_prophet, path+'.pkl')\n",
    "warnings.resetwarnings()"
   ]
  },
  {
   "cell_type": "code",
   "execution_count": 14,
   "metadata": {},
   "outputs": [],
   "source": [
    "def predicting_data(i=1):\n",
    "    if i==0:\n",
    "        #For testing \n",
    "        # Make a future dataframe for (2 Years)\n",
    "        df2_forecast = df2_prophet.make_future_dataframe(periods=30*25 , freq='D')\n",
    "        # Make predictions\n",
    "        df2_forecast = df2_prophet.predict(df2_forecast)\n",
    "        df3=df2_forecast[['ds','yhat']]\n",
    "        df3.shape,df1.shape,df2.shape\n",
    "        df4=df3.iloc[6940:-20,:]\n",
    "\n",
    "    else:\n",
    "        #For Future prediction of 2019\n",
    "        # Make a future dataframe for 12 months\n",
    "        df2_forecast = df2_prophet.make_future_dataframe(periods=30*12 , freq='D',include_history=False)\n",
    "        # Make predictions\n",
    "        df2_forecast = df2_prophet.predict(df2_forecast)\n",
    "        df3=df2_forecast[['ds','yhat']]\n",
    "        #df3.shape,df1.shape,df2.shape\n",
    "        df4=df3.iloc[:,:]\n",
    "    return df4,df2_forecast"
   ]
  },
  {
   "cell_type": "code",
   "execution_count": 16,
   "metadata": {},
   "outputs": [
    {
     "data": {
      "text/plain": [
       "((360, 1), (7670, 2))"
      ]
     },
     "execution_count": 16,
     "metadata": {},
     "output_type": "execute_result"
    }
   ],
   "source": [
    "df4,df2_forecast=predicting_data(1)\n",
    "ypred=df4.iloc[:,1:]\n",
    "ytest=df1.iloc[:,:]\n",
    "ypred.shape,ytest.shape\n",
    "\n",
    "df4.tail()\n",
    "# In[52]:\n",
    "ypred=df4.iloc[:,1:]\n",
    "ytest=df1.iloc[:,:]\n",
    "ypred.shape,ytest.shape"
   ]
  }
 ],
 "metadata": {
  "kernelspec": {
   "display_name": "Python 3",
   "language": "python",
   "name": "python3"
  },
  "language_info": {
   "codemirror_mode": {
    "name": "ipython",
    "version": 3
   },
   "file_extension": ".py",
   "mimetype": "text/x-python",
   "name": "python",
   "nbconvert_exporter": "python",
   "pygments_lexer": "ipython3",
   "version": "3.10.0"
  }
 },
 "nbformat": 4,
 "nbformat_minor": 2
}
